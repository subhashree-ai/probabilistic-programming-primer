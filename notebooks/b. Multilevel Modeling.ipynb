{
 "cells": [
  {
   "cell_type": "markdown",
   "metadata": {},
   "source": [
    "# A Primer on Bayesian Methods for Multilevel Modeling"
   ]
  },
  {
   "cell_type": "markdown",
   "metadata": {},
   "source": [
    "Hierarchical or multilevel modeling is a generalization of regression modeling.\n",
    "\n",
    "*Multilevel models* are regression models in which the constituent model parameters are given **probability models**. This implies that model parameters are allowed to **vary by group**.\n",
    "\n",
    "Observational units are often naturally **clustered**. Clustering induces dependence between observations, despite random sampling of clusters and random sampling within clusters.\n",
    "\n",
    "A *hierarchical model* is a particular multilevel model where parameters are nested within one another.\n",
    "\n",
    "Some multilevel structures are not hierarchical. \n",
    "\n",
    "* e.g. \"country\" and \"year\" are not nested, but may represent separate, but overlapping, clusters of parameters\n",
    "\n",
    "We will motivate this topic using an environmental epidemiology example."
   ]
  },
  {
   "cell_type": "markdown",
   "metadata": {},
   "source": [
    "### Example: Radon contamination (Gelman and Hill 2006)\n",
    "\n",
    "Radon is a radioactive gas that enters homes through contact points with the ground. It is a carcinogen that is the primary cause of lung cancer in non-smokers. Radon levels vary greatly from household to household.\n",
    "\n",
    "![radon](http://www.fix-your-radon.com/images/how_radon_enters.jpg)\n",
    "\n",
    "The EPA did a study of radon levels in 80,000 houses. Two important predictors:\n",
    "\n",
    "* measurement in basement or first floor (radon higher in basements)\n",
    "* county uranium level (positive correlation with radon levels)\n",
    "\n",
    "We will focus on modeling radon levels in Minnesota.\n",
    "\n",
    "The hierarchy in this example is households within county. "
   ]
  },
  {
   "cell_type": "markdown",
   "metadata": {},
   "source": [
    "### Data organization"
   ]
  },
  {
   "cell_type": "markdown",
   "metadata": {},
   "source": [
    "First, we import the data from a local file, and extract Minnesota's data."
   ]
  },
  {
   "cell_type": "code",
   "execution_count": null,
   "metadata": {},
   "outputs": [],
   "source": [
    "%matplotlib inline\n",
    "import numpy as np\n",
    "import pandas as pd\n",
    "import matplotlib.pyplot as plt\n",
    "import seaborn as sns; sns.set_context('notebook')\n",
    "\n",
    "# Import radon data\n",
    "srrs2 = pd.read_csv('../data/srrs2.dat')\n",
    "srrs2.columns = srrs2.columns.map(str.strip)\n",
    "srrs_mn = srrs2[srrs2.state=='MN']"
   ]
  },
  {
   "cell_type": "markdown",
   "metadata": {},
   "source": [
    "Next, obtain the county-level predictor, uranium, by combining two variables."
   ]
  },
  {
   "cell_type": "code",
   "execution_count": null,
   "metadata": {},
   "outputs": [],
   "source": [
    "srrs_mn['fips'] = srrs_mn.stfips*1000 + srrs_mn.cntyfips\n",
    "cty = pd.read_csv('../data/cty.dat')\n",
    "cty_mn = cty[cty.st=='MN'].copy()\n",
    "cty_mn[ 'fips'] = 1000*cty_mn.stfips + cty_mn.ctfips"
   ]
  },
  {
   "cell_type": "markdown",
   "metadata": {},
   "source": [
    "Use the `merge` method to combine home- and county-level information in a single DataFrame."
   ]
  },
  {
   "cell_type": "code",
   "execution_count": null,
   "metadata": {},
   "outputs": [],
   "source": [
    "srrs_mn = srrs_mn.merge(cty_mn[['fips', 'Uppm']], on='fips')\n",
    "srrs_mn = srrs_mn.drop_duplicates(subset='idnum')\n",
    "u = np.log(srrs_mn.Uppm)\n",
    "\n",
    "n = len(srrs_mn)"
   ]
  },
  {
   "cell_type": "code",
   "execution_count": null,
   "metadata": {},
   "outputs": [],
   "source": [
    "srrs_mn.head()"
   ]
  },
  {
   "cell_type": "markdown",
   "metadata": {},
   "source": [
    "We also need a lookup table (`dict`) for each unique county, for indexing."
   ]
  },
  {
   "cell_type": "code",
   "execution_count": null,
   "metadata": {},
   "outputs": [],
   "source": [
    "srrs_mn.county = srrs_mn.county.map(str.strip)\n",
    "mn_counties = srrs_mn.county.unique()\n",
    "counties = len(mn_counties)\n",
    "county_lookup = dict(zip(mn_counties, range(len(mn_counties))))"
   ]
  },
  {
   "cell_type": "markdown",
   "metadata": {},
   "source": [
    "Finally, create local copies of variables."
   ]
  },
  {
   "cell_type": "code",
   "execution_count": null,
   "metadata": {},
   "outputs": [],
   "source": [
    "county = srrs_mn['county_code'] = srrs_mn.county.replace(county_lookup).values\n",
    "radon = srrs_mn.activity\n",
    "srrs_mn['log_radon'] = log_radon = np.log(radon + 0.1).values\n",
    "floor_measure = srrs_mn.floor.values"
   ]
  },
  {
   "cell_type": "markdown",
   "metadata": {},
   "source": [
    "Distribution of radon levels in MN (log scale):"
   ]
  },
  {
   "cell_type": "code",
   "execution_count": null,
   "metadata": {},
   "outputs": [],
   "source": [
    "srrs_mn.activity.apply(lambda x: np.log(x+0.1)).hist(bins=25)"
   ]
  },
  {
   "cell_type": "markdown",
   "metadata": {},
   "source": [
    "## Conventional approaches\n",
    "\n",
    "The two conventional alternatives to modeling radon exposure represent the two extremes of the bias-variance tradeoff:\n",
    "\n",
    "***Complete pooling***: \n",
    "\n",
    "Treat all counties the same, and estimate a single radon level.\n",
    "\n",
    "$$y_i = \\alpha + \\beta x_i + \\epsilon_i$$\n",
    "\n",
    "***No pooling***:\n",
    "\n",
    "Model radon in each county independently.\n",
    "\n",
    "$$y_i = \\alpha_{j[i]} + \\beta x_i + \\epsilon_i$$\n",
    "\n",
    "where $j = 1,\\ldots,85$\n",
    "\n",
    "The errors $\\epsilon_i$ may represent measurement error, temporal within-house variation, or variation among houses."
   ]
  },
  {
   "cell_type": "markdown",
   "metadata": {},
   "source": [
    "Here are the point estimates of the slope and intercept for the complete pooling model:"
   ]
  },
  {
   "cell_type": "code",
   "execution_count": null,
   "metadata": {},
   "outputs": [],
   "source": [
    "from pymc3 import Model, sample, Normal, HalfCauchy, Uniform\n",
    "\n",
    "floor = srrs_mn.floor.values\n",
    "log_radon = srrs_mn.log_radon.values\n",
    "\n",
    "with Model() as pooled_model:\n",
    "    \n",
    "    beta = Normal('beta', 0, sd=1e5, shape=2)\n",
    "    sigma = HalfCauchy('sigma', 5)\n",
    "    \n",
    "    theta = beta[0] + beta[1]*floor\n",
    "    \n",
    "    y = Normal('y', theta, sd=sigma, observed=log_radon)\n",
    "    "
   ]
  },
  {
   "cell_type": "code",
   "execution_count": null,
   "metadata": {},
   "outputs": [],
   "source": [
    "with pooled_model:\n",
    "    pooled_trace = sample(2000)"
   ]
  },
  {
   "cell_type": "code",
   "execution_count": null,
   "metadata": {},
   "outputs": [],
   "source": [
    "b0, m0 = pooled_trace['beta', 1000:].mean(axis=0)"
   ]
  },
  {
   "cell_type": "code",
   "execution_count": null,
   "metadata": {},
   "outputs": [],
   "source": [
    "plt.scatter(srrs_mn.floor, np.log(srrs_mn.activity+0.1))\n",
    "xvals = np.linspace(-0.2, 1.2)\n",
    "plt.plot(xvals, m0*xvals+b0, 'r--')"
   ]
  },
  {
   "cell_type": "markdown",
   "metadata": {},
   "source": [
    "Estimates of county radon levels for the unpooled model:"
   ]
  },
  {
   "cell_type": "code",
   "execution_count": null,
   "metadata": {},
   "outputs": [],
   "source": [
    "with Model() as unpooled_model:\n",
    "    \n",
    "    beta0 = Normal('beta0', 0, sd=1e5, shape=counties)\n",
    "    beta1 = Normal('beta1', 0, sd=1e5)\n",
    "    sigma = HalfCauchy('sigma', 5)\n",
    "    \n",
    "    theta = beta0[county] + beta1*floor\n",
    "    \n",
    "    y = Normal('y', theta, sd=sigma, observed=log_radon)\n",
    "    "
   ]
  },
  {
   "cell_type": "code",
   "execution_count": null,
   "metadata": {},
   "outputs": [],
   "source": [
    "with unpooled_model:\n",
    "    unpooled_trace = sample(2000)"
   ]
  },
  {
   "cell_type": "code",
   "execution_count": null,
   "metadata": {},
   "outputs": [],
   "source": [
    "from pymc3 import forestplot\n",
    "\n",
    "forestplot(unpooled_trace, varnames=['beta0'])"
   ]
  },
  {
   "cell_type": "code",
   "execution_count": null,
   "metadata": {},
   "outputs": [],
   "source": [
    "unpooled_estimates = pd.Series(unpooled_trace['beta0'].mean(axis=0), index=mn_counties)\n",
    "unpooled_se = pd.Series(unpooled_trace['beta0'].std(axis=0), index=mn_counties)"
   ]
  },
  {
   "cell_type": "markdown",
   "metadata": {},
   "source": [
    "We can plot the ordered estimates to identify counties with high radon levels:"
   ]
  },
  {
   "cell_type": "code",
   "execution_count": null,
   "metadata": {},
   "outputs": [],
   "source": [
    "order = unpooled_estimates.order().index\n",
    "\n",
    "plt.scatter(range(len(unpooled_estimates)), unpooled_estimates[order])\n",
    "for i, m, se in zip(range(len(unpooled_estimates)), unpooled_estimates[order], unpooled_se[order]):\n",
    "    plt.plot([i,i], [m-se, m+se], 'b-')\n",
    "plt.xlim(-1,86); plt.ylim(-1,4)\n",
    "plt.ylabel('Radon estimate');plt.xlabel('Ordered county');"
   ]
  },
  {
   "cell_type": "markdown",
   "metadata": {},
   "source": [
    "Here are visual comparisons between the pooled and unpooled estimates for a subset of counties representing a range of sample sizes."
   ]
  },
  {
   "cell_type": "code",
   "execution_count": null,
   "metadata": {},
   "outputs": [],
   "source": [
    "sample_counties = ('LAC QUI PARLE', 'AITKIN', 'KOOCHICHING', \n",
    "                    'DOUGLAS', 'CLAY', 'STEARNS', 'RAMSEY', 'ST LOUIS')\n",
    "\n",
    "fig, axes = plt.subplots(2, 4, figsize=(12, 6), sharey=True, sharex=True)\n",
    "axes = axes.ravel()\n",
    "m = unpooled_trace['beta1'].mean()\n",
    "for i,c in enumerate(sample_counties):\n",
    "    y = srrs_mn.log_radon[srrs_mn.county==c]\n",
    "    x = srrs_mn.floor[srrs_mn.county==c]\n",
    "    axes[i].scatter(x + np.random.randn(len(x))*0.01, y, alpha=0.4)\n",
    "    \n",
    "    # No pooling model\n",
    "    b = unpooled_estimates[c]\n",
    "    \n",
    "    # Plot both models and data\n",
    "    xvals = np.linspace(-0.2, 1.2)\n",
    "    axes[i].plot(xvals, m*xvals+b)\n",
    "    axes[i].plot(xvals, m0*xvals+b0, 'r--')\n",
    "    axes[i].set_xticks([0,1])\n",
    "    axes[i].set_xticklabels(['basement', 'floor'])\n",
    "    axes[i].set_ylim(-1, 3)\n",
    "    axes[i].set_title(c)\n",
    "    if not i%2:\n",
    "        axes[i].set_ylabel('log radon level')"
   ]
  },
  {
   "cell_type": "markdown",
   "metadata": {},
   "source": [
    "Neither of these models are satisfactory:\n",
    "\n",
    "* if we are trying to identify high-radon counties, pooling is useless\n",
    "* we do not trust extreme unpooled estimates produced by models using few observations"
   ]
  },
  {
   "cell_type": "markdown",
   "metadata": {},
   "source": [
    "## Multilevel and hierarchical models\n",
    "\n",
    "When we pool our data, we imply that they are sampled from the same model. This ignores any variation among sampling units (other than sampling variance):\n",
    "\n",
    "![pooled](http://f.cl.ly/items/0R1W063h1h0W2M2C0S3M/Screen%20Shot%202013-10-10%20at%208.22.21%20AM.png)\n",
    "\n",
    "When we analyze data unpooled, we imply that they are sampled independently from separate models. At the opposite extreme from the pooled case, this approach claims that differences between sampling units are to large to combine them:\n",
    "\n",
    "![unpooled](http://f.cl.ly/items/38020n2t2Y2b1p3t0B0e/Screen%20Shot%202013-10-10%20at%208.23.36%20AM.png)\n",
    "\n",
    "In a hierarchical model, parameters are viewed as a sample from a population distribution of parameters. Thus, we view them as being neither entirely different or exactly the same. This is ***parital pooling***.\n",
    "\n",
    "![hierarchical](http://f.cl.ly/items/1B3U223i002y3V2W3r0W/Screen%20Shot%202013-10-10%20at%208.25.05%20AM.png)"
   ]
  },
  {
   "cell_type": "markdown",
   "metadata": {},
   "source": [
    "We can use PyMC to easily specify multilevel models, and fit them using Markov chain Monte Carlo."
   ]
  },
  {
   "cell_type": "markdown",
   "metadata": {},
   "source": [
    "## Partial pooling model\n",
    "\n",
    "The simplest partial pooling model for the household radon dataset is one which simply estimates radon levels, without any predictors at any level. A partial pooling model represents a compromise between the pooled and unpooled extremes, approximately a weighted average (based on sample size) of the unpooled county estimates and the pooled estimates.\n",
    "\n",
    "$$\\hat{\\alpha} \\approx \\frac{(n_j/\\sigma_y^2)\\bar{y}_j + (1/\\sigma_{\\alpha}^2)\\bar{y}}{(n_j/\\sigma_y^2) + (1/\\sigma_{\\alpha}^2)}$$\n",
    "\n",
    "Estimates for counties with smaller sample sizes will shrink towards the state-wide average.\n",
    "\n",
    "Estimates for counties with larger sample sizes will be closer to the unpooled county estimates."
   ]
  },
  {
   "cell_type": "code",
   "execution_count": null,
   "metadata": {},
   "outputs": [],
   "source": [
    "with Model() as partial_pooling:\n",
    "    \n",
    "    # Priors\n",
    "    mu_a = Normal('mu_a', mu=0., sd=1e5)\n",
    "    sigma_a = HalfCauchy('sigma_a', 5)\n",
    "    \n",
    "    # Random intercepts\n",
    "    a = Normal('a', mu=mu_a, sd=sigma_a, shape=counties)\n",
    "    \n",
    "    # Model error\n",
    "    sigma_y = HalfCauchy('sigma_y',5)\n",
    "    \n",
    "    # Expected value\n",
    "    y_hat = a[county]\n",
    "    \n",
    "    # Data likelihood\n",
    "    y_like = Normal('y_like', mu=y_hat, sd=sigma_y, observed=log_radon)\n",
    "    "
   ]
  },
  {
   "cell_type": "code",
   "execution_count": null,
   "metadata": {},
   "outputs": [],
   "source": [
    "with partial_pooling:\n",
    "    partial_pooling_trace = sample(2000)"
   ]
  },
  {
   "cell_type": "code",
   "execution_count": null,
   "metadata": {},
   "outputs": [],
   "source": [
    "sample_trace = partial_pooling_trace['a', 1000:]\n",
    "\n",
    "fig, axes = plt.subplots(1, 2, figsize=(14,6), sharex=True, sharey=True)\n",
    "samples, counties = sample_trace.shape\n",
    "jitter = np.random.normal(scale=0.1, size=counties)\n",
    "\n",
    "n_county = srrs_mn.groupby('county')['idnum'].count()\n",
    "unpooled_means = srrs_mn.groupby('county')['log_radon'].mean()\n",
    "unpooled_sd = srrs_mn.groupby('county')['log_radon'].std()\n",
    "unpooled = pd.DataFrame({'n':n_county, 'm':unpooled_means, 'sd':unpooled_sd})\n",
    "unpooled['se'] = unpooled.sd/np.sqrt(unpooled.n)\n",
    "\n",
    "axes[0].plot(unpooled.n + jitter, unpooled.m, 'b.')\n",
    "for j, row in zip(jitter, unpooled.iterrows()):\n",
    "    name, dat = row\n",
    "    axes[0].plot([dat.n+j,dat.n+j], [dat.m-dat.se, dat.m+dat.se], 'b-')\n",
    "axes[0].set_xscale('log')\n",
    "axes[0].hlines(sample_trace.mean(), 0.9, 100, linestyles='--')\n",
    "\n",
    "        \n",
    "samples, counties = sample_trace.shape\n",
    "means = sample_trace.mean(axis=0)\n",
    "sd = sample_trace.std(axis=0)\n",
    "axes[1].scatter(n_county.values + jitter, means)\n",
    "axes[1].set_xscale('log')\n",
    "axes[1].set_xlim(1,100)\n",
    "axes[1].set_ylim(0, 3)\n",
    "axes[1].hlines(sample_trace.mean(), 0.9, 100, linestyles='--')\n",
    "for j,n,m,s in zip(jitter, n_county.values, means, sd):\n",
    "    axes[1].plot([n+j]*2, [m-s, m+s], 'b-')"
   ]
  },
  {
   "cell_type": "markdown",
   "metadata": {},
   "source": [
    "Notice the difference between the unpooled and partially-pooled estimates, particularly at smaller sample sizes. The former are both more extreme and more imprecise."
   ]
  },
  {
   "cell_type": "markdown",
   "metadata": {},
   "source": [
    "## Varying intercept model\n",
    "\n",
    "This model allows intercepts to vary across county, according to a random effect.\n",
    "\n",
    "$$y_i = \\alpha_{j[i]} + \\beta x_{i} + \\epsilon_i$$\n",
    "\n",
    "where\n",
    "\n",
    "$$\\epsilon_i \\sim N(0, \\sigma_y^2)$$\n",
    "\n",
    "and the intercept random effect:\n",
    "\n",
    "$$\\alpha_{j[i]} \\sim N(\\mu_{\\alpha}, \\sigma_{\\alpha}^2)$$\n",
    "\n",
    "As with the the “no-pooling” model, we set a separate intercept for each county, but rather than fitting separate least squares regression models for each county, multilevel modeling **shares strength** among counties, allowing for more reasonable inference in counties with little data."
   ]
  },
  {
   "cell_type": "code",
   "execution_count": null,
   "metadata": {},
   "outputs": [],
   "source": [
    "with Model() as varying_intercept:\n",
    "    \n",
    "    # Priors\n",
    "    mu_a = Normal('mu_a', mu=0., tau=0.0001)\n",
    "    sigma_a = HalfCauchy('sigma_a', 5)\n",
    "    \n",
    "    \n",
    "    # Random intercepts\n",
    "    a = Normal('a', mu=mu_a, sd=sigma_a, shape=counties)\n",
    "    # Common slope\n",
    "    b = Normal('b', mu=0., sd=1e5)\n",
    "    \n",
    "    # Model error\n",
    "    sd_y = HalfCauchy('sd_y', 5)\n",
    "    \n",
    "    # Expected value\n",
    "    y_hat = a[county] + b * floor_measure\n",
    "    \n",
    "    # Data likelihood\n",
    "    y_like = Normal('y_like', mu=y_hat, sd=sd_y, observed=log_radon)\n",
    "    "
   ]
  },
  {
   "cell_type": "markdown",
   "metadata": {},
   "source": [
    "We can fit the above model using MCMC."
   ]
  },
  {
   "cell_type": "code",
   "execution_count": null,
   "metadata": {},
   "outputs": [],
   "source": [
    "with varying_intercept:\n",
    "    varying_intercept_trace = sample(2000)"
   ]
  },
  {
   "cell_type": "code",
   "execution_count": null,
   "metadata": {},
   "outputs": [],
   "source": [
    "from pymc3 import forestplot, traceplot, plot_posterior\n",
    "\n",
    "plt.figure(figsize=(6,10))\n",
    "forestplot(varying_intercept_trace[1000:], varnames=['a'])"
   ]
  },
  {
   "cell_type": "code",
   "execution_count": null,
   "metadata": {},
   "outputs": [],
   "source": [
    "plot_posterior(varying_intercept_trace[1000:], varnames=['sigma_a', 'b'])"
   ]
  },
  {
   "cell_type": "markdown",
   "metadata": {},
   "source": [
    "The estimate for the `floor` coefficient is approximately -0.66, which can be interpreted as houses without basements having about half ($\\exp(-0.66) = 0.52$) the radon levels of those with basements, after accounting for county."
   ]
  },
  {
   "cell_type": "code",
   "execution_count": null,
   "metadata": {},
   "outputs": [],
   "source": [
    "from pymc3 import summary\n",
    "\n",
    "summary(varying_intercept_trace, varnames=['b'])"
   ]
  },
  {
   "cell_type": "code",
   "execution_count": null,
   "metadata": {},
   "outputs": [],
   "source": [
    "xvals = np.arange(2)\n",
    "bp = varying_intercept_trace[a, 1000:].mean(axis=0)\n",
    "mp = varying_intercept_trace[b, 1000:].mean()\n",
    "for bi in bp:\n",
    "    plt.plot(xvals, mp*xvals + bi, 'bo-', alpha=0.4)\n",
    "plt.xlim(-0.1,1.1);"
   ]
  },
  {
   "cell_type": "markdown",
   "metadata": {},
   "source": [
    "It is easy to show that the partial pooling model provides more objectively reasonable estimates than either the pooled or unpooled models, at least for counties with small sample sizes."
   ]
  },
  {
   "cell_type": "code",
   "execution_count": null,
   "metadata": {},
   "outputs": [],
   "source": [
    "fig, axes = plt.subplots(2, 4, figsize=(12, 6), sharey=True, sharex=True)\n",
    "axes = axes.ravel()\n",
    "for i,c in enumerate(sample_counties):\n",
    "    \n",
    "    # Plot county data\n",
    "    y = srrs_mn.log_radon[srrs_mn.county==c]\n",
    "    x = srrs_mn.floor[srrs_mn.county==c]\n",
    "    axes[i].scatter(x + np.random.randn(len(x))*0.01, y, alpha=0.4)\n",
    "    \n",
    "    # No pooling model\n",
    "    m,b = unpooled_estimates[['floor', c]]\n",
    "    \n",
    "    xvals = np.linspace(-0.2, 1.2)\n",
    "    # Unpooled estimate\n",
    "    axes[i].plot(xvals, m*xvals+b)\n",
    "    # Pooled estimate\n",
    "    axes[i].plot(xvals, m0*xvals+b0, 'r--')\n",
    "    # Partial pooling esimate\n",
    "    axes[i].plot(xvals, mp*xvals+bp[county_lookup[c]], 'k:')\n",
    "    axes[i].set_xticks([0,1])\n",
    "    axes[i].set_xticklabels(['basement', 'floor'])\n",
    "    axes[i].set_ylim(-1, 3)\n",
    "    axes[i].set_title(c)\n",
    "    if not i%2:\n",
    "        axes[i].set_ylabel('log radon level')"
   ]
  },
  {
   "cell_type": "markdown",
   "metadata": {},
   "source": [
    "## Varying slope model\n",
    "\n",
    "Alternatively, we can posit a model that allows the counties to vary according to how the location of measurement (basement or floor) influences the radon reading.\n",
    "\n",
    "$$y_i = \\alpha + \\beta_{j[i]} x_{i} + \\epsilon_i$$\n"
   ]
  },
  {
   "cell_type": "code",
   "execution_count": null,
   "metadata": {},
   "outputs": [],
   "source": [
    "with Model() as varying_slope:\n",
    "    \n",
    "    # Priors\n",
    "    mu_b = Normal('mu_b', mu=0., sd=1e5)\n",
    "    sigma_b = HalfCauchy('sigma_b', 5)\n",
    "    \n",
    "    # Common intercepts\n",
    "    a = Normal('a', mu=0., sd=1e5)\n",
    "    # Random slopes\n",
    "    b = Normal('b', mu=mu_b, sd=sigma_b, shape=counties)\n",
    "    \n",
    "    # Model error\n",
    "    sigma_y = HalfCauchy('sigma_y',5)\n",
    "    \n",
    "    # Expected value\n",
    "    y_hat = a + b[county] * floor_measure\n",
    "    \n",
    "    # Data likelihood\n",
    "    y_like = Normal('y_like', mu=y_hat, sd=sigma_y, observed=log_radon)\n",
    "    "
   ]
  },
  {
   "cell_type": "code",
   "execution_count": null,
   "metadata": {},
   "outputs": [],
   "source": [
    "with varying_slope:\n",
    "    varying_slope_trace = sample(2000)"
   ]
  },
  {
   "cell_type": "code",
   "execution_count": null,
   "metadata": {},
   "outputs": [],
   "source": [
    "plt.figure(figsize=(6,10))\n",
    "forestplot(varying_slope_trace[1000:], varnames=['b'])"
   ]
  },
  {
   "cell_type": "code",
   "execution_count": null,
   "metadata": {},
   "outputs": [],
   "source": [
    "xvals = np.arange(2)\n",
    "b = varying_slope_trace['a', 1000:].mean()\n",
    "m = varying_slope_trace['b', 1000:].mean(axis=0)\n",
    "for mi in m:\n",
    "    plt.plot(xvals, mi*xvals + b, 'bo-', alpha=0.4)\n",
    "plt.xlim(-0.2, 1.2);"
   ]
  },
  {
   "cell_type": "markdown",
   "metadata": {},
   "source": [
    "## Varying intercept and slope model\n",
    "\n",
    "The most general model allows both the intercept and slope to vary by county:\n",
    "\n",
    "$$y_i = \\alpha_{j[i]} + \\beta_{j[i]} x_{i} + \\epsilon_i$$\n"
   ]
  },
  {
   "cell_type": "code",
   "execution_count": null,
   "metadata": {},
   "outputs": [],
   "source": [
    "with Model() as varying_intercept_slope:\n",
    "    \n",
    "    # Priors\n",
    "    mu_a = Normal('mu_a', mu=0., sd=1e5)\n",
    "    sigma_a = HalfCauchy('sigma_a', 5)\n",
    "    mu_b = Normal('mu_b', mu=0., sd=1e5)\n",
    "    sigma_b = HalfCauchy('sigma_b', 5)\n",
    "    \n",
    "    # Random intercepts\n",
    "    a = Normal('a', mu=mu_a, sd=sigma_a, shape=counties)\n",
    "    # Random slopes\n",
    "    b = Normal('b', mu=mu_b, sd=sigma_b, shape=counties)\n",
    "    \n",
    "    # Model error\n",
    "    sigma_y = Uniform('sigma_y', lower=0, upper=100)\n",
    "    \n",
    "    # Expected value\n",
    "    y_hat = a[county] + b[county] * floor_measure\n",
    "    \n",
    "    # Data likelihood\n",
    "    y_like = Normal('y_like', mu=y_hat, sd=sigma_y, observed=log_radon)"
   ]
  },
  {
   "cell_type": "code",
   "execution_count": null,
   "metadata": {},
   "outputs": [],
   "source": [
    "with varying_intercept_slope:\n",
    "    varying_intercept_slope_trace = sample(2000)"
   ]
  },
  {
   "cell_type": "code",
   "execution_count": null,
   "metadata": {},
   "outputs": [],
   "source": [
    "plt.figure(figsize=(6,16))\n",
    "forestplot(varying_intercept_slope_trace[1000:], varnames=['a','b'])"
   ]
  },
  {
   "cell_type": "code",
   "execution_count": null,
   "metadata": {},
   "outputs": [],
   "source": [
    "xvals = np.arange(2)\n",
    "b = varying_intercept_slope_trace['a', 1000:].mean(axis=0)\n",
    "m = varying_intercept_slope_trace['b', 1000:].mean(axis=0)\n",
    "for bi,mi in zip(b,m):\n",
    "    plt.plot(xvals, mi*xvals + bi, 'bo-', alpha=0.4)\n",
    "plt.xlim(-0.1, 1.1);"
   ]
  },
  {
   "cell_type": "markdown",
   "metadata": {},
   "source": [
    "## Adding group-level predictors\n",
    "\n",
    "A primary strength of multilevel models is the ability to handle predictors on multiple levels simultaneously. If we consider the varying-intercepts model above:\n",
    "\n",
    "$$y_i = \\alpha_{j[i]} + \\beta x_{i} + \\epsilon_i$$\n",
    "\n",
    "we may, instead of a simple random effect to describe variation in the expected radon value, specify another regression model with a county-level covariate. Here, we use the county uranium reading $u_j$, which is thought to be related to radon levels:\n",
    "\n",
    "$$\\alpha_j = \\gamma_0 + \\gamma_1 u_j + \\zeta_j$$\n",
    "\n",
    "$$\\zeta_j \\sim N(0, \\sigma_{\\alpha}^2)$$\n",
    "\n",
    "Thus, we are now incorporating a house-level predictor (floor or basement) as well as a county-level predictor (uranium).\n",
    "\n",
    "Note that the model has both indicator variables for each county, plus a county-level covariate. In classical regression, this would result in collinearity. In a multilevel model, the partial pooling of the intercepts towards the expected value of the group-level linear model avoids this.\n",
    "\n",
    "Group-level predictors also serve to reduce group-level variation $\\sigma_{\\alpha}$. An important implication of this is that the group-level estimate induces stronger pooling."
   ]
  },
  {
   "cell_type": "code",
   "execution_count": null,
   "metadata": {},
   "outputs": [],
   "source": [
    "from pymc3 import Deterministic\n",
    "\n",
    "with Model() as hierarchical_intercept:\n",
    "    \n",
    "    # Priors\n",
    "    sigma_a = HalfCauchy('sigma_a', 5)\n",
    "    \n",
    "    # County uranium model for slope\n",
    "    gamma_0 = Normal('gamma_0', mu=0., sd=1e5)\n",
    "    gamma_1 = Normal('gamma_1', mu=0., sd=1e5)\n",
    "    \n",
    "    \n",
    "    # Uranium model for intercept\n",
    "    mu_a = gamma_0 + gamma_1*u\n",
    "    # County variation not explained by uranium\n",
    "    eps_a = Normal('eps_a', mu=0, sd=sigma_a, shape=counties)\n",
    "    a = Deterministic('a', mu_a + eps_a[county])\n",
    "    \n",
    "    # Common slope\n",
    "    b = Deterministic('b', Normal('b', mu=0., sd=1e5))\n",
    "    \n",
    "    # Model error\n",
    "    sigma_y = Uniform('sigma_y', lower=0, upper=100)\n",
    "    \n",
    "    # Expected value\n",
    "    y_hat = a + b * floor_measure\n",
    "    \n",
    "    # Data likelihood\n",
    "    y_like = Normal('y_like', mu=y_hat, sd=sigma_y, observed=log_radon)\n",
    "    "
   ]
  },
  {
   "cell_type": "code",
   "execution_count": null,
   "metadata": {},
   "outputs": [],
   "source": [
    "with hierarchical_intercept:\n",
    "    hierarchical_intercept_trace = sample(2000)"
   ]
  },
  {
   "cell_type": "code",
   "execution_count": null,
   "metadata": {},
   "outputs": [],
   "source": [
    "a_means = hierarchical_intercept_trace['a', 1000:].mean(axis=0)\n",
    "plt.scatter(u, a_means)\n",
    "g0 = hierarchical_intercept_trace['gamma_0'].mean()\n",
    "g1 = hierarchical_intercept_trace['gamma_1'].mean()\n",
    "xvals = np.linspace(-1, 0.8)\n",
    "plt.plot(xvals, g0+g1*xvals, 'k--')\n",
    "plt.xlim(-1, 0.8)\n",
    "\n",
    "a_se = hierarchical_intercept_trace['a', 1000:].std(axis=0)\n",
    "for ui, m, se in zip(u, a_means, a_se):\n",
    "    plt.plot([ui,ui], [m-se, m+se], 'b-')\n",
    "plt.xlabel('County-level uranium'); plt.ylabel('Intercept estimate')"
   ]
  },
  {
   "cell_type": "markdown",
   "metadata": {},
   "source": [
    "The standard errors on the intercepts are narrower than for the partial-pooling model without a county-level covariate."
   ]
  },
  {
   "cell_type": "markdown",
   "metadata": {},
   "source": [
    "### Correlations among levels\n",
    "\n",
    "In some instances, having predictors at multiple levels can reveal correlation between individual-level variables and group residuals. We can account for this by including the average of the individual predictors as a covariate in the model for the group intercept.\n",
    "\n",
    "$$\\alpha_j = \\gamma_0 + \\gamma_1 u_j + \\gamma_2 \\bar{x} + \\zeta_j$$\n",
    "\n",
    "These are broadly referred to as ***contextual effects***."
   ]
  },
  {
   "cell_type": "code",
   "execution_count": null,
   "metadata": {},
   "outputs": [],
   "source": [
    "# Create new variable for mean of floor across counties\n",
    "xbar = srrs_mn.groupby('county')['floor'].mean().rename(county_lookup).values"
   ]
  },
  {
   "cell_type": "code",
   "execution_count": null,
   "metadata": {},
   "outputs": [],
   "source": [
    "with Model() as contextual_effect:\n",
    "    \n",
    "    # Priors\n",
    "    sigma_a = HalfCauchy('sigma_a', 5)\n",
    "    \n",
    "    # County uranium model for slope\n",
    "    gamma = Normal('gamma', mu=0., sd=1e5, shape=3)\n",
    "    \n",
    "    # Uranium model for intercept\n",
    "    mu_a = Deterministic('mu_a', gamma[0] + gamma[1]*u.values + gamma[2]*xbar[county])\n",
    "\n",
    "    # County variation not explained by uranium\n",
    "    eps_a = Normal('eps_a', mu=0, sd=sigma_a, shape=counties)\n",
    "    a = Deterministic('a', mu_a + eps_a[county])\n",
    "\n",
    "    # Common slope\n",
    "    b = Normal('b', mu=0., sd=1e15)\n",
    "    \n",
    "    # Model error\n",
    "    sigma_y = Uniform('sigma_y', lower=0, upper=100)\n",
    "    \n",
    "    # Expected value\n",
    "    y_hat = a + b * floor_measure\n",
    "    \n",
    "    # Data likelihood\n",
    "    y_like = Normal('y_like', mu=y_hat, sd=sigma_y, observed=log_radon)\n",
    "    "
   ]
  },
  {
   "cell_type": "code",
   "execution_count": null,
   "metadata": {},
   "outputs": [],
   "source": [
    "with contextual_effect:\n",
    "    contextual_effect_trace = sample(2000)"
   ]
  },
  {
   "cell_type": "code",
   "execution_count": null,
   "metadata": {},
   "outputs": [],
   "source": [
    "forestplot(contextual_effect_trace[1000:], varnames=['gamma'])"
   ]
  },
  {
   "cell_type": "code",
   "execution_count": null,
   "metadata": {},
   "outputs": [],
   "source": [
    "summary(contextual_effect_trace[1000:], varnames=['gamma'])"
   ]
  },
  {
   "cell_type": "markdown",
   "metadata": {},
   "source": [
    "So, we might infer from this that counties with higher proportions of houses without basements tend to have higher baseline levels of radon. Perhaps this is related to the soil type, which in turn might influence what type of structures are built."
   ]
  },
  {
   "cell_type": "markdown",
   "metadata": {},
   "source": [
    "### Prediction\n",
    "\n",
    "Gelman (2006) used cross-validation tests to check the prediction error of the unpooled, pooled, and partially-pooled models\n",
    "\n",
    "**root mean squared cross-validation prediction errors**:\n",
    "\n",
    "* unpooled = 0.86\n",
    "* pooled = 0.84\n",
    "* multilevel = 0.79\n",
    "\n",
    "There are two types of prediction that can be made in a multilevel model:\n",
    "\n",
    "1. a new individual within an existing group\n",
    "2. a new individual within a new group\n",
    "\n",
    "For example, if we wanted to make a prediction for a new house with no basement in St. Louis county, we just need to sample from the radon model with the appropriate intercept."
   ]
  },
  {
   "cell_type": "code",
   "execution_count": null,
   "metadata": {},
   "outputs": [],
   "source": [
    "county_lookup['ST LOUIS']"
   ]
  },
  {
   "cell_type": "markdown",
   "metadata": {},
   "source": [
    "That is, \n",
    "\n",
    "$$\\tilde{y}_i \\sim N(\\alpha_{69} + \\beta (x_i=1), \\sigma_y^2)$$\n",
    "\n",
    "This is simply a matter of adding a single additional line in PyMC:"
   ]
  },
  {
   "cell_type": "code",
   "execution_count": null,
   "metadata": {},
   "outputs": [],
   "source": [
    "with Model() as contextual_pred:\n",
    "    \n",
    "    # Priors\n",
    "    sigma_a = HalfCauchy('sigma_a', 5)\n",
    "    \n",
    "    # County uranium model for slope\n",
    "    gamma = Normal('gamma', mu=0., sd=1e5, shape=3)\n",
    "    \n",
    "    # Uranium model for intercept\n",
    "    mu_a = Deterministic('mu_a', gamma[0] + gamma[1]*u.values + gamma[2]*xbar[county])\n",
    "\n",
    "    # County variation not explained by uranium\n",
    "    eps_a = Normal('eps_a', mu=0, sd=sigma_a, shape=counties)\n",
    "    a = Deterministic('a', mu_a + eps_a[county])\n",
    "\n",
    "    # Common slope\n",
    "    b = Normal('b', mu=0., sd=1e15)\n",
    "    \n",
    "    # Model error\n",
    "    sigma_y = Uniform('sigma_y', lower=0, upper=100)\n",
    "    \n",
    "    # Expected value\n",
    "    y_hat = a + b * floor_measure\n",
    "    \n",
    "    # Data likelihood\n",
    "    y_like = Normal('y_like', mu=y_hat, sd=sigma_y, observed=log_radon)\n",
    "    \n",
    "    # St Louis county prediction\n",
    "    stl_pred = Normal('stl_pred', mu=a[69] + b, sd=sigma_y)\n",
    "    "
   ]
  },
  {
   "cell_type": "code",
   "execution_count": null,
   "metadata": {},
   "outputs": [],
   "source": [
    "with contextual_pred:\n",
    "    contextual_pred_trace = sample(2000)"
   ]
  },
  {
   "cell_type": "code",
   "execution_count": null,
   "metadata": {},
   "outputs": [],
   "source": [
    "plot_posterior(contextual_pred_trace[1000:], varnames=['stl_pred'])"
   ]
  },
  {
   "cell_type": "markdown",
   "metadata": {},
   "source": [
    "## Exercise\n",
    "\n",
    "How would we make a prediction from a new county (*e.g.* one not included in this dataset)?"
   ]
  },
  {
   "cell_type": "code",
   "execution_count": null,
   "metadata": {
    "collapsed": true
   },
   "outputs": [],
   "source": [
    "# Write your answer here"
   ]
  },
  {
   "cell_type": "markdown",
   "metadata": {},
   "source": [
    "## Benefits of Multilevel Models\n",
    "\n",
    "Accounting for natural hierarchical structure of observational data\n",
    "\n",
    "Estimation of coefficients for (under-represented) groups\n",
    "\n",
    "Incorporating individual- and group-level information when estimating group-level coefficients\n",
    "\n",
    "Allowing for variation among individual-level coefficients across groups\n",
    "\n"
   ]
  },
  {
   "cell_type": "markdown",
   "metadata": {},
   "source": [
    "## References\n",
    "\n",
    "Gelman, A., & Hill, J. (2006). Data Analysis Using Regression and Multilevel/Hierarchical Models (1st ed.). Cambridge University Press.\n",
    "\n",
    "Gelman, A. (2006). Multilevel (Hierarchical) modeling: what it can and cannot do. Technometrics, 48(3), 432–435."
   ]
  }
 ],
 "metadata": {
  "kernelspec": {
   "display_name": "Python [default]",
   "language": "python",
   "name": "python3"
  },
  "language_info": {
   "codemirror_mode": {
    "name": "ipython",
    "version": 3
   },
   "file_extension": ".py",
   "mimetype": "text/x-python",
   "name": "python",
   "nbconvert_exporter": "python",
   "pygments_lexer": "ipython3",
   "version": "3.6.4"
  }
 },
 "nbformat": 4,
 "nbformat_minor": 1
}
