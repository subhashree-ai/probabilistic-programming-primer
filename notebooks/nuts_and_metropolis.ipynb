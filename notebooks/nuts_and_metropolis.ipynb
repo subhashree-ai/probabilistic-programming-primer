{
 "cells": [
  {
   "cell_type": "markdown",
   "metadata": {},
   "source": [
    "# Probabilistic Programming Primer: What's NUTS and MCMC?#\n",
    "\n",
    "The aim with this chapter is to give a very high level overview of what MCMC is, and why you should care. \n",
    "\n",
    "You'll hear a lot in textbooks or in other documents/documentation about Probabilistic Programming - MCMC, and stuff. \n",
    "I can personally remember being very intimidated by this. My aim by the end of this section is to demystify this. "
   ]
  },
  {
   "cell_type": "code",
   "execution_count": null,
   "metadata": {},
   "outputs": [],
   "source": []
  }
 ],
 "metadata": {
  "kernelspec": {
   "display_name": "Python [conda env:stat-rethink-pymc3]",
   "language": "python",
   "name": "conda-env-stat-rethink-pymc3-py"
  },
  "language_info": {
   "codemirror_mode": {
    "name": "ipython",
    "version": 3
   },
   "file_extension": ".py",
   "mimetype": "text/x-python",
   "name": "python",
   "nbconvert_exporter": "python",
   "pygments_lexer": "ipython3",
   "version": "3.6.4"
  }
 },
 "nbformat": 4,
 "nbformat_minor": 2
}
